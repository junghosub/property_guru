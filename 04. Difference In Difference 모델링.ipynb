{
 "cells": [
  {
   "cell_type": "code",
   "execution_count": 4,
   "metadata": {},
   "outputs": [],
   "source": [
    "import numpy as np\n",
    "import pandas as pd\n",
    "from IPython.display import display"
   ]
  },
  {
   "cell_type": "code",
   "execution_count": 5,
   "metadata": {},
   "outputs": [
    {
     "data": {
      "text/html": [
       "<div>\n",
       "<style scoped>\n",
       "    .dataframe tbody tr th:only-of-type {\n",
       "        vertical-align: middle;\n",
       "    }\n",
       "\n",
       "    .dataframe tbody tr th {\n",
       "        vertical-align: top;\n",
       "    }\n",
       "\n",
       "    .dataframe thead th {\n",
       "        text-align: right;\n",
       "    }\n",
       "</style>\n",
       "<table border=\"1\" class=\"dataframe\">\n",
       "  <thead>\n",
       "    <tr style=\"text-align: right;\">\n",
       "      <th></th>\n",
       "      <th>property_ID</th>\n",
       "      <th>address_ID</th>\n",
       "      <th>listed_date</th>\n",
       "      <th>reupload</th>\n",
       "      <th>new</th>\n",
       "      <th>descrip10</th>\n",
       "      <th>description</th>\n",
       "      <th>Floorsize</th>\n",
       "      <th>Floor</th>\n",
       "      <th>House_type</th>\n",
       "      <th>...</th>\n",
       "      <th>WFH0516</th>\n",
       "      <th>WFH</th>\n",
       "      <th>g_renovated</th>\n",
       "      <th>g_view</th>\n",
       "      <th>g_unit</th>\n",
       "      <th>g_virtual</th>\n",
       "      <th>g_location</th>\n",
       "      <th>g_apt</th>\n",
       "      <th>g_activity</th>\n",
       "      <th>phase_num</th>\n",
       "    </tr>\n",
       "  </thead>\n",
       "  <tbody>\n",
       "    <tr>\n",
       "      <th>0</th>\n",
       "      <td>1</td>\n",
       "      <td>1</td>\n",
       "      <td>2019-10-26</td>\n",
       "      <td>new</td>\n",
       "      <td>1</td>\n",
       "      <td>excellent unit sale miss 2 bed rom sale go fast</td>\n",
       "      <td>excellent unit sale miss 2 bed rom sale go fas...</td>\n",
       "      <td>930</td>\n",
       "      <td>Middle Floor</td>\n",
       "      <td>Condo</td>\n",
       "      <td>...</td>\n",
       "      <td>0</td>\n",
       "      <td>0</td>\n",
       "      <td>0</td>\n",
       "      <td>1</td>\n",
       "      <td>0</td>\n",
       "      <td>0</td>\n",
       "      <td>1</td>\n",
       "      <td>0</td>\n",
       "      <td>1</td>\n",
       "      <td>1.0</td>\n",
       "    </tr>\n",
       "    <tr>\n",
       "      <th>1</th>\n",
       "      <td>2</td>\n",
       "      <td>2</td>\n",
       "      <td>2019-10-26</td>\n",
       "      <td>new</td>\n",
       "      <td>1</td>\n",
       "      <td>great deal miss rarely avail 3 bed sale go fast</td>\n",
       "      <td>great deal miss rarely avail 3 bed sale go fas...</td>\n",
       "      <td>1143</td>\n",
       "      <td>Middle Floor</td>\n",
       "      <td>Condo</td>\n",
       "      <td>...</td>\n",
       "      <td>0</td>\n",
       "      <td>0</td>\n",
       "      <td>0</td>\n",
       "      <td>1</td>\n",
       "      <td>0</td>\n",
       "      <td>0</td>\n",
       "      <td>1</td>\n",
       "      <td>0</td>\n",
       "      <td>0</td>\n",
       "      <td>1.0</td>\n",
       "    </tr>\n",
       "    <tr>\n",
       "      <th>2</th>\n",
       "      <td>3</td>\n",
       "      <td>3</td>\n",
       "      <td>2019-10-26</td>\n",
       "      <td>new</td>\n",
       "      <td>1</td>\n",
       "      <td>canopy exe condo available single spr 21 years...</td>\n",
       "      <td>canopy exe condo available single spr 21 years...</td>\n",
       "      <td>1033</td>\n",
       "      <td>High Floor</td>\n",
       "      <td>Condo</td>\n",
       "      <td>...</td>\n",
       "      <td>0</td>\n",
       "      <td>0</td>\n",
       "      <td>0</td>\n",
       "      <td>1</td>\n",
       "      <td>1</td>\n",
       "      <td>0</td>\n",
       "      <td>0</td>\n",
       "      <td>1</td>\n",
       "      <td>1</td>\n",
       "      <td>1.0</td>\n",
       "    </tr>\n",
       "    <tr>\n",
       "      <th>3</th>\n",
       "      <td>4</td>\n",
       "      <td>4</td>\n",
       "      <td>2019-10-26</td>\n",
       "      <td>new</td>\n",
       "      <td>1</td>\n",
       "      <td>big 2 bedrooms sale sale want stay high floor ...</td>\n",
       "      <td>big 2 bedrooms sale sale want stay high floor ...</td>\n",
       "      <td>1001</td>\n",
       "      <td>High Floor</td>\n",
       "      <td>Condo</td>\n",
       "      <td>...</td>\n",
       "      <td>0</td>\n",
       "      <td>0</td>\n",
       "      <td>0</td>\n",
       "      <td>1</td>\n",
       "      <td>0</td>\n",
       "      <td>0</td>\n",
       "      <td>0</td>\n",
       "      <td>0</td>\n",
       "      <td>0</td>\n",
       "      <td>1.0</td>\n",
       "    </tr>\n",
       "    <tr>\n",
       "      <th>4</th>\n",
       "      <td>5</td>\n",
       "      <td>2</td>\n",
       "      <td>2019-10-26</td>\n",
       "      <td>new</td>\n",
       "      <td>1</td>\n",
       "      <td>3br awesome full reservoir view rare full unbl...</td>\n",
       "      <td>3br awesome full reservoir view rare full unbl...</td>\n",
       "      <td>1248</td>\n",
       "      <td>High Floor</td>\n",
       "      <td>Condo</td>\n",
       "      <td>...</td>\n",
       "      <td>0</td>\n",
       "      <td>0</td>\n",
       "      <td>0</td>\n",
       "      <td>1</td>\n",
       "      <td>1</td>\n",
       "      <td>0</td>\n",
       "      <td>0</td>\n",
       "      <td>0</td>\n",
       "      <td>0</td>\n",
       "      <td>1.0</td>\n",
       "    </tr>\n",
       "  </tbody>\n",
       "</table>\n",
       "<p>5 rows × 81 columns</p>\n",
       "</div>"
      ],
      "text/plain": [
       "   property_ID  address_ID listed_date reupload  new  \\\n",
       "0            1           1  2019-10-26      new    1   \n",
       "1            2           2  2019-10-26      new    1   \n",
       "2            3           3  2019-10-26      new    1   \n",
       "3            4           4  2019-10-26      new    1   \n",
       "4            5           2  2019-10-26      new    1   \n",
       "\n",
       "                                           descrip10  \\\n",
       "0    excellent unit sale miss 2 bed rom sale go fast   \n",
       "1    great deal miss rarely avail 3 bed sale go fast   \n",
       "2  canopy exe condo available single spr 21 years...   \n",
       "3  big 2 bedrooms sale sale want stay high floor ...   \n",
       "4  3br awesome full reservoir view rare full unbl...   \n",
       "\n",
       "                                         description  Floorsize         Floor  \\\n",
       "0  excellent unit sale miss 2 bed rom sale go fas...        930  Middle Floor   \n",
       "1  great deal miss rarely avail 3 bed sale go fas...       1143  Middle Floor   \n",
       "2  canopy exe condo available single spr 21 years...       1033    High Floor   \n",
       "3  big 2 bedrooms sale sale want stay high floor ...       1001    High Floor   \n",
       "4  3br awesome full reservoir view rare full unbl...       1248    High Floor   \n",
       "\n",
       "  House_type  ... WFH0516 WFH  g_renovated g_view  g_unit  g_virtual  \\\n",
       "0      Condo  ...       0   0            0      1       0          0   \n",
       "1      Condo  ...       0   0            0      1       0          0   \n",
       "2      Condo  ...       0   0            0      1       1          0   \n",
       "3      Condo  ...       0   0            0      1       0          0   \n",
       "4      Condo  ...       0   0            0      1       1          0   \n",
       "\n",
       "  g_location  g_apt g_activity  phase_num  \n",
       "0          1      0          1        1.0  \n",
       "1          1      0          0        1.0  \n",
       "2          0      1          1        1.0  \n",
       "3          0      0          0        1.0  \n",
       "4          0      0          0        1.0  \n",
       "\n",
       "[5 rows x 81 columns]"
      ]
     },
     "execution_count": 5,
     "metadata": {},
     "output_type": "execute_result"
    }
   ],
   "source": [
    "df = pd.read_csv('df_all_apt(2022-02-12).csv')\n",
    "df.head()"
   ]
  },
  {
   "cell_type": "code",
   "execution_count": null,
   "metadata": {},
   "outputs": [],
   "source": [
    "df = df.loc[df['House_type'] == 'Condo'].reset_index(drop = True)\n",
    "df['price'] = df['price'] / 1000\n",
    "df['price_log'] = np.log(df['price'])"
   ]
  },
  {
   "cell_type": "markdown",
   "metadata": {},
   "source": [
    "## DID 모델링"
   ]
  },
  {
   "attachments": {
    "image.png": {
     "image/png": "[encoded data removed]"
    }
   },
   "cell_type": "markdown",
   "metadata": {},
   "source": [
    "![image.png](attachment:image.png)"
   ]
  },
  {
   "cell_type": "markdown",
   "metadata": {},
   "source": [
    "- y : 단위면적당 가격\n",
    "- D_i : 처리그룹에 속하면 1,대조그룹에 속하면 0을 갖는 더미변수\n",
    "- T_i: listed_year≥2020이면 1,listed_year=2019면 0을 갖는 더미변수\n",
    "- D_i T_i: 두 더미변수의 곱으로 만들어진 상호작용변수\n",
    "- X_(i ):각 패널의 특성벡터(면적,방수,화장실 갯수 등 처리더미변수와는 다르지만 각 주택특성의 특성을 통제하는 변수들 )"
   ]
  },
  {
   "cell_type": "code",
   "execution_count": null,
   "metadata": {
    "scrolled": false
   },
   "outputs": [],
   "source": [
    "import statsmodels.formula.api as smf\n",
    "\n",
    "# defining variable\n",
    "#variable = list(df.columns[df.columns.str.contains('keyword_')])\n",
    "variable = list(df.columns[df.columns.str.contains('g_')])\n",
    "\n",
    "# time variable\n",
    "times = ['listed_year_dummy', 'T_a1','T_a1.5', 'T_a2', 'T_a3', 'T_a4', 'T_a5', 'T_a6', 'T_a7', 'T_a10', 'T_a11']\n",
    "\n",
    "for time in times:\n",
    "    # initiate dictionary\n",
    "    coef = {}\n",
    "    for var in variable:\n",
    "        df['d'] = df[var].astype('int') # Di\n",
    "        df['t'] = df[time].astype('int') # t=Ti\n",
    "        df['dt'] = df['d'] * df['t'] # Di * Ti\n",
    "        \n",
    "        # formula = y ~ Di + Ti + Di*Ti  +Xi\n",
    "        model = 'price_log ~ d + t + dt + Floorsize + rooms +years_from_TOP'\n",
    "        \n",
    "        # fitting\n",
    "        mod = smf.ols(formula=model, data = df)\n",
    "        res = mod.fit()\n",
    "        #print(str(time)+' , '+str(var)+ \"의 분석 결과\\n\")\n",
    "        #print(res.summary())\n",
    "        #print()\n",
    "        \n",
    "        # save the result\n",
    "        coef[var] = [round(res.params['dt'], 5), round(res.pvalues['dt'], 3)]\n",
    "        \n",
    "    # print the table\n",
    "    print('time: ', str(time))\n",
    "    display(pd.DataFrame(coef).rename(index = {0 : 'coef', 1 : 'pvalue'}).transpose().sort_values(by = 'pvalue'))\n",
    "    print()"
   ]
  },
  {
   "cell_type": "markdown",
   "metadata": {},
   "source": [
    "## Non log"
   ]
  },
  {
   "cell_type": "code",
   "execution_count": 14,
   "metadata": {},
   "outputs": [
    {
     "data": {
      "text/html": [
       "<div>\n",
       "<style scoped>\n",
       "    .dataframe tbody tr th:only-of-type {\n",
       "        vertical-align: middle;\n",
       "    }\n",
       "\n",
       "    .dataframe tbody tr th {\n",
       "        vertical-align: top;\n",
       "    }\n",
       "\n",
       "    .dataframe thead th {\n",
       "        text-align: right;\n",
       "    }\n",
       "</style>\n",
       "<table border=\"1\" class=\"dataframe\">\n",
       "  <thead>\n",
       "    <tr style=\"text-align: right;\">\n",
       "      <th></th>\n",
       "      <th>0</th>\n",
       "    </tr>\n",
       "  </thead>\n",
       "  <tbody>\n",
       "    <tr>\n",
       "      <th>g_renovated</th>\n",
       "      <td>16.431780</td>\n",
       "    </tr>\n",
       "    <tr>\n",
       "      <th>g_view</th>\n",
       "      <td>32.639369</td>\n",
       "    </tr>\n",
       "    <tr>\n",
       "      <th>g_unit</th>\n",
       "      <td>25.454424</td>\n",
       "    </tr>\n",
       "    <tr>\n",
       "      <th>g_virtual</th>\n",
       "      <td>2.084392</td>\n",
       "    </tr>\n",
       "    <tr>\n",
       "      <th>g_location</th>\n",
       "      <td>43.138007</td>\n",
       "    </tr>\n",
       "    <tr>\n",
       "      <th>g_apt</th>\n",
       "      <td>1.969797</td>\n",
       "    </tr>\n",
       "    <tr>\n",
       "      <th>g_activity</th>\n",
       "      <td>6.605716</td>\n",
       "    </tr>\n",
       "  </tbody>\n",
       "</table>\n",
       "</div>"
      ],
      "text/plain": [
       "                     0\n",
       "g_renovated  16.431780\n",
       "g_view       32.639369\n",
       "g_unit       25.454424\n",
       "g_virtual     2.084392\n",
       "g_location   43.138007\n",
       "g_apt         1.969797\n",
       "g_activity    6.605716"
      ]
     },
     "execution_count": 14,
     "metadata": {},
     "output_type": "execute_result"
    }
   ],
   "source": [
    "pd.DataFrame(df[['g_renovated', 'g_view', 'g_unit', 'g_virtual', 'g_location', 'g_apt', 'g_activity']].apply(lambda x : sum(x) / df.shape[0] * 100))"
   ]
  },
  {
   "cell_type": "code",
   "execution_count": 23,
   "metadata": {},
   "outputs": [
    {
     "name": "stdout",
     "output_type": "stream",
     "text": [
      "23.19001225132723\n"
     ]
    }
   ],
   "source": [
    "print(df.loc[df['keyword_sum'] == 0].shape[0] / df.shape[0] * 100)"
   ]
  },
  {
   "cell_type": "code",
   "execution_count": 18,
   "metadata": {},
   "outputs": [
    {
     "ename": "KeyboardInterrupt",
     "evalue": "",
     "output_type": "error",
     "traceback": [
      "\u001b[1;31m---------------------------------------------------------------------------\u001b[0m",
      "\u001b[1;31mKeyboardInterrupt\u001b[0m                         Traceback (most recent call last)",
      "\u001b[1;32m<ipython-input-18-76f556c4de8b>\u001b[0m in \u001b[0;36m<module>\u001b[1;34m\u001b[0m\n\u001b[0;32m      1\u001b[0m \u001b[0mdf\u001b[0m\u001b[1;33m[\u001b[0m\u001b[1;34m'keyword_sum'\u001b[0m\u001b[1;33m]\u001b[0m \u001b[1;33m=\u001b[0m \u001b[0mdf\u001b[0m\u001b[1;33m[\u001b[0m\u001b[1;33m[\u001b[0m\u001b[1;34m'g_renovated'\u001b[0m\u001b[1;33m,\u001b[0m \u001b[1;34m'g_view'\u001b[0m\u001b[1;33m,\u001b[0m \u001b[1;34m'g_unit'\u001b[0m\u001b[1;33m,\u001b[0m \u001b[1;34m'g_virtual'\u001b[0m\u001b[1;33m,\u001b[0m \u001b[1;34m'g_location'\u001b[0m\u001b[1;33m,\u001b[0m \u001b[1;34m'g_apt'\u001b[0m\u001b[1;33m,\u001b[0m \u001b[1;34m'g_activity'\u001b[0m\u001b[1;33m]\u001b[0m\u001b[1;33m]\u001b[0m\u001b[1;33m.\u001b[0m\u001b[0mapply\u001b[0m\u001b[1;33m(\u001b[0m\u001b[1;32mlambda\u001b[0m \u001b[0mx\u001b[0m \u001b[1;33m:\u001b[0m \u001b[0msum\u001b[0m\u001b[1;33m(\u001b[0m\u001b[0mx\u001b[0m\u001b[1;33m)\u001b[0m\u001b[1;33m,\u001b[0m \u001b[0maxis\u001b[0m \u001b[1;33m=\u001b[0m \u001b[1;36m1\u001b[0m\u001b[1;33m)\u001b[0m\u001b[1;33m\u001b[0m\u001b[1;33m\u001b[0m\u001b[0m\n\u001b[1;32m----> 2\u001b[1;33m \u001b[0mdf\u001b[0m\u001b[1;33m.\u001b[0m\u001b[0mloc\u001b[0m\u001b[1;33m[\u001b[0m\u001b[0mdf\u001b[0m\u001b[1;33m[\u001b[0m\u001b[1;34m'keyword_sum'\u001b[0m\u001b[1;33m]\u001b[0m \u001b[1;33m==\u001b[0m \u001b[1;36m0\u001b[0m\u001b[1;33m]\u001b[0m\u001b[1;33m.\u001b[0m\u001b[0msum\u001b[0m\u001b[1;33m(\u001b[0m\u001b[1;33m)\u001b[0m\u001b[1;33m\u001b[0m\u001b[1;33m\u001b[0m\u001b[0m\n\u001b[0m",
      "\u001b[1;32mC:\\ProgramData\\Anaconda3\\lib\\site-packages\\pandas\\core\\generic.py\u001b[0m in \u001b[0;36mstat_func\u001b[1;34m(self, axis, skipna, level, numeric_only, min_count, **kwargs)\u001b[0m\n\u001b[0;32m  11426\u001b[0m             \u001b[0mskipna\u001b[0m\u001b[1;33m=\u001b[0m\u001b[0mskipna\u001b[0m\u001b[1;33m,\u001b[0m\u001b[1;33m\u001b[0m\u001b[1;33m\u001b[0m\u001b[0m\n\u001b[0;32m  11427\u001b[0m             \u001b[0mnumeric_only\u001b[0m\u001b[1;33m=\u001b[0m\u001b[0mnumeric_only\u001b[0m\u001b[1;33m,\u001b[0m\u001b[1;33m\u001b[0m\u001b[1;33m\u001b[0m\u001b[0m\n\u001b[1;32m> 11428\u001b[1;33m             \u001b[0mmin_count\u001b[0m\u001b[1;33m=\u001b[0m\u001b[0mmin_count\u001b[0m\u001b[1;33m,\u001b[0m\u001b[1;33m\u001b[0m\u001b[1;33m\u001b[0m\u001b[0m\n\u001b[0m\u001b[0;32m  11429\u001b[0m         )\n\u001b[0;32m  11430\u001b[0m \u001b[1;33m\u001b[0m\u001b[0m\n",
      "\u001b[1;32mC:\\ProgramData\\Anaconda3\\lib\\site-packages\\pandas\\core\\frame.py\u001b[0m in \u001b[0;36m_reduce\u001b[1;34m(self, op, name, axis, skipna, numeric_only, filter_type, **kwds)\u001b[0m\n\u001b[0;32m   8638\u001b[0m                     \u001b[0mself\u001b[0m\u001b[1;33m,\u001b[0m \u001b[0mfunc\u001b[0m\u001b[1;33m=\u001b[0m\u001b[0mfunc\u001b[0m\u001b[1;33m,\u001b[0m \u001b[0mresult_type\u001b[0m\u001b[1;33m=\u001b[0m\u001b[1;34m\"expand\"\u001b[0m\u001b[1;33m,\u001b[0m \u001b[0mignore_failures\u001b[0m\u001b[1;33m=\u001b[0m\u001b[1;32mTrue\u001b[0m\u001b[1;33m\u001b[0m\u001b[1;33m\u001b[0m\u001b[0m\n\u001b[0;32m   8639\u001b[0m                 )\n\u001b[1;32m-> 8640\u001b[1;33m                 \u001b[0mresult\u001b[0m \u001b[1;33m=\u001b[0m \u001b[0mopa\u001b[0m\u001b[1;33m.\u001b[0m\u001b[0mget_result\u001b[0m\u001b[1;33m(\u001b[0m\u001b[1;33m)\u001b[0m\u001b[1;33m\u001b[0m\u001b[1;33m\u001b[0m\u001b[0m\n\u001b[0m\u001b[0;32m   8641\u001b[0m                 \u001b[1;32mif\u001b[0m \u001b[0mresult\u001b[0m\u001b[1;33m.\u001b[0m\u001b[0mndim\u001b[0m \u001b[1;33m==\u001b[0m \u001b[0mself\u001b[0m\u001b[1;33m.\u001b[0m\u001b[0mndim\u001b[0m\u001b[1;33m:\u001b[0m\u001b[1;33m\u001b[0m\u001b[1;33m\u001b[0m\u001b[0m\n\u001b[0;32m   8642\u001b[0m                     \u001b[0mresult\u001b[0m \u001b[1;33m=\u001b[0m \u001b[0mresult\u001b[0m\u001b[1;33m.\u001b[0m\u001b[0miloc\u001b[0m\u001b[1;33m[\u001b[0m\u001b[1;36m0\u001b[0m\u001b[1;33m]\u001b[0m\u001b[1;33m.\u001b[0m\u001b[0mrename\u001b[0m\u001b[1;33m(\u001b[0m\u001b[1;32mNone\u001b[0m\u001b[1;33m)\u001b[0m\u001b[1;33m\u001b[0m\u001b[1;33m\u001b[0m\u001b[0m\n",
      "\u001b[1;32mC:\\ProgramData\\Anaconda3\\lib\\site-packages\\pandas\\core\\apply.py\u001b[0m in \u001b[0;36mget_result\u001b[1;34m(self)\u001b[0m\n\u001b[0;32m    178\u001b[0m             \u001b[1;32mreturn\u001b[0m \u001b[0mself\u001b[0m\u001b[1;33m.\u001b[0m\u001b[0mapply_raw\u001b[0m\u001b[1;33m(\u001b[0m\u001b[1;33m)\u001b[0m\u001b[1;33m\u001b[0m\u001b[1;33m\u001b[0m\u001b[0m\n\u001b[0;32m    179\u001b[0m \u001b[1;33m\u001b[0m\u001b[0m\n\u001b[1;32m--> 180\u001b[1;33m         \u001b[1;32mreturn\u001b[0m \u001b[0mself\u001b[0m\u001b[1;33m.\u001b[0m\u001b[0mapply_standard\u001b[0m\u001b[1;33m(\u001b[0m\u001b[1;33m)\u001b[0m\u001b[1;33m\u001b[0m\u001b[1;33m\u001b[0m\u001b[0m\n\u001b[0m\u001b[0;32m    181\u001b[0m \u001b[1;33m\u001b[0m\u001b[0m\n\u001b[0;32m    182\u001b[0m     \u001b[1;32mdef\u001b[0m \u001b[0mapply_empty_result\u001b[0m\u001b[1;33m(\u001b[0m\u001b[0mself\u001b[0m\u001b[1;33m)\u001b[0m\u001b[1;33m:\u001b[0m\u001b[1;33m\u001b[0m\u001b[1;33m\u001b[0m\u001b[0m\n",
      "\u001b[1;32mC:\\ProgramData\\Anaconda3\\lib\\site-packages\\pandas\\core\\apply.py\u001b[0m in \u001b[0;36mapply_standard\u001b[1;34m(self)\u001b[0m\n\u001b[0;32m    269\u001b[0m \u001b[1;33m\u001b[0m\u001b[0m\n\u001b[0;32m    270\u001b[0m     \u001b[1;32mdef\u001b[0m \u001b[0mapply_standard\u001b[0m\u001b[1;33m(\u001b[0m\u001b[0mself\u001b[0m\u001b[1;33m)\u001b[0m\u001b[1;33m:\u001b[0m\u001b[1;33m\u001b[0m\u001b[1;33m\u001b[0m\u001b[0m\n\u001b[1;32m--> 271\u001b[1;33m         \u001b[0mresults\u001b[0m\u001b[1;33m,\u001b[0m \u001b[0mres_index\u001b[0m \u001b[1;33m=\u001b[0m \u001b[0mself\u001b[0m\u001b[1;33m.\u001b[0m\u001b[0mapply_series_generator\u001b[0m\u001b[1;33m(\u001b[0m\u001b[1;33m)\u001b[0m\u001b[1;33m\u001b[0m\u001b[1;33m\u001b[0m\u001b[0m\n\u001b[0m\u001b[0;32m    272\u001b[0m \u001b[1;33m\u001b[0m\u001b[0m\n\u001b[0;32m    273\u001b[0m         \u001b[1;31m# wrap results\u001b[0m\u001b[1;33m\u001b[0m\u001b[1;33m\u001b[0m\u001b[1;33m\u001b[0m\u001b[0m\n",
      "\u001b[1;32mC:\\ProgramData\\Anaconda3\\lib\\site-packages\\pandas\\core\\apply.py\u001b[0m in \u001b[0;36mapply_series_generator\u001b[1;34m(self)\u001b[0m\n\u001b[0;32m    284\u001b[0m             \u001b[1;32mfor\u001b[0m \u001b[0mi\u001b[0m\u001b[1;33m,\u001b[0m \u001b[0mv\u001b[0m \u001b[1;32min\u001b[0m \u001b[0menumerate\u001b[0m\u001b[1;33m(\u001b[0m\u001b[0mseries_gen\u001b[0m\u001b[1;33m)\u001b[0m\u001b[1;33m:\u001b[0m\u001b[1;33m\u001b[0m\u001b[1;33m\u001b[0m\u001b[0m\n\u001b[0;32m    285\u001b[0m                 \u001b[1;32mtry\u001b[0m\u001b[1;33m:\u001b[0m\u001b[1;33m\u001b[0m\u001b[1;33m\u001b[0m\u001b[0m\n\u001b[1;32m--> 286\u001b[1;33m                     \u001b[0mresults\u001b[0m\u001b[1;33m[\u001b[0m\u001b[0mi\u001b[0m\u001b[1;33m]\u001b[0m \u001b[1;33m=\u001b[0m \u001b[0mself\u001b[0m\u001b[1;33m.\u001b[0m\u001b[0mf\u001b[0m\u001b[1;33m(\u001b[0m\u001b[0mv\u001b[0m\u001b[1;33m)\u001b[0m\u001b[1;33m\u001b[0m\u001b[1;33m\u001b[0m\u001b[0m\n\u001b[0m\u001b[0;32m    287\u001b[0m                 \u001b[1;32mexcept\u001b[0m \u001b[0mException\u001b[0m\u001b[1;33m:\u001b[0m\u001b[1;33m\u001b[0m\u001b[1;33m\u001b[0m\u001b[0m\n\u001b[0;32m    288\u001b[0m                     \u001b[1;32mpass\u001b[0m\u001b[1;33m\u001b[0m\u001b[1;33m\u001b[0m\u001b[0m\n",
      "\u001b[1;32mC:\\ProgramData\\Anaconda3\\lib\\site-packages\\pandas\\core\\frame.py\u001b[0m in \u001b[0;36mfunc\u001b[1;34m(values)\u001b[0m\n\u001b[0;32m   8569\u001b[0m                 \u001b[1;32mreturn\u001b[0m \u001b[0mextract_array\u001b[0m\u001b[1;33m(\u001b[0m\u001b[0mvalues\u001b[0m\u001b[1;33m)\u001b[0m\u001b[1;33m.\u001b[0m\u001b[0m_reduce\u001b[0m\u001b[1;33m(\u001b[0m\u001b[0mname\u001b[0m\u001b[1;33m,\u001b[0m \u001b[0mskipna\u001b[0m\u001b[1;33m=\u001b[0m\u001b[0mskipna\u001b[0m\u001b[1;33m,\u001b[0m \u001b[1;33m**\u001b[0m\u001b[0mkwds\u001b[0m\u001b[1;33m)\u001b[0m\u001b[1;33m\u001b[0m\u001b[1;33m\u001b[0m\u001b[0m\n\u001b[0;32m   8570\u001b[0m             \u001b[1;32melse\u001b[0m\u001b[1;33m:\u001b[0m\u001b[1;33m\u001b[0m\u001b[1;33m\u001b[0m\u001b[0m\n\u001b[1;32m-> 8571\u001b[1;33m                 \u001b[1;32mreturn\u001b[0m \u001b[0mop\u001b[0m\u001b[1;33m(\u001b[0m\u001b[0mvalues\u001b[0m\u001b[1;33m,\u001b[0m \u001b[0maxis\u001b[0m\u001b[1;33m=\u001b[0m\u001b[0maxis\u001b[0m\u001b[1;33m,\u001b[0m \u001b[0mskipna\u001b[0m\u001b[1;33m=\u001b[0m\u001b[0mskipna\u001b[0m\u001b[1;33m,\u001b[0m \u001b[1;33m**\u001b[0m\u001b[0mkwds\u001b[0m\u001b[1;33m)\u001b[0m\u001b[1;33m\u001b[0m\u001b[1;33m\u001b[0m\u001b[0m\n\u001b[0m\u001b[0;32m   8572\u001b[0m \u001b[1;33m\u001b[0m\u001b[0m\n\u001b[0;32m   8573\u001b[0m         \u001b[1;32mdef\u001b[0m \u001b[0m_get_data\u001b[0m\u001b[1;33m(\u001b[0m\u001b[0maxis_matters\u001b[0m\u001b[1;33m)\u001b[0m\u001b[1;33m:\u001b[0m\u001b[1;33m\u001b[0m\u001b[1;33m\u001b[0m\u001b[0m\n",
      "\u001b[1;32mC:\\ProgramData\\Anaconda3\\lib\\site-packages\\pandas\\core\\nanops.py\u001b[0m in \u001b[0;36m_f\u001b[1;34m(*args, **kwargs)\u001b[0m\n\u001b[0;32m     69\u001b[0m             \u001b[1;32mtry\u001b[0m\u001b[1;33m:\u001b[0m\u001b[1;33m\u001b[0m\u001b[1;33m\u001b[0m\u001b[0m\n\u001b[0;32m     70\u001b[0m                 \u001b[1;32mwith\u001b[0m \u001b[0mnp\u001b[0m\u001b[1;33m.\u001b[0m\u001b[0merrstate\u001b[0m\u001b[1;33m(\u001b[0m\u001b[0minvalid\u001b[0m\u001b[1;33m=\u001b[0m\u001b[1;34m\"ignore\"\u001b[0m\u001b[1;33m)\u001b[0m\u001b[1;33m:\u001b[0m\u001b[1;33m\u001b[0m\u001b[1;33m\u001b[0m\u001b[0m\n\u001b[1;32m---> 71\u001b[1;33m                     \u001b[1;32mreturn\u001b[0m \u001b[0mf\u001b[0m\u001b[1;33m(\u001b[0m\u001b[1;33m*\u001b[0m\u001b[0margs\u001b[0m\u001b[1;33m,\u001b[0m \u001b[1;33m**\u001b[0m\u001b[0mkwargs\u001b[0m\u001b[1;33m)\u001b[0m\u001b[1;33m\u001b[0m\u001b[1;33m\u001b[0m\u001b[0m\n\u001b[0m\u001b[0;32m     72\u001b[0m             \u001b[1;32mexcept\u001b[0m \u001b[0mValueError\u001b[0m \u001b[1;32mas\u001b[0m \u001b[0me\u001b[0m\u001b[1;33m:\u001b[0m\u001b[1;33m\u001b[0m\u001b[1;33m\u001b[0m\u001b[0m\n\u001b[0;32m     73\u001b[0m                 \u001b[1;31m# we want to transform an object array\u001b[0m\u001b[1;33m\u001b[0m\u001b[1;33m\u001b[0m\u001b[1;33m\u001b[0m\u001b[0m\n",
      "\u001b[1;32mC:\\ProgramData\\Anaconda3\\lib\\site-packages\\pandas\\core\\nanops.py\u001b[0m in \u001b[0;36mnansum\u001b[1;34m(values, axis, skipna, min_count, mask)\u001b[0m\n\u001b[0;32m    507\u001b[0m     \u001b[1;32melif\u001b[0m \u001b[0mis_timedelta64_dtype\u001b[0m\u001b[1;33m(\u001b[0m\u001b[0mdtype\u001b[0m\u001b[1;33m)\u001b[0m\u001b[1;33m:\u001b[0m\u001b[1;33m\u001b[0m\u001b[1;33m\u001b[0m\u001b[0m\n\u001b[0;32m    508\u001b[0m         \u001b[0mdtype_sum\u001b[0m \u001b[1;33m=\u001b[0m \u001b[0mnp\u001b[0m\u001b[1;33m.\u001b[0m\u001b[0mfloat64\u001b[0m\u001b[1;33m\u001b[0m\u001b[1;33m\u001b[0m\u001b[0m\n\u001b[1;32m--> 509\u001b[1;33m     \u001b[0mthe_sum\u001b[0m \u001b[1;33m=\u001b[0m \u001b[0mvalues\u001b[0m\u001b[1;33m.\u001b[0m\u001b[0msum\u001b[0m\u001b[1;33m(\u001b[0m\u001b[0maxis\u001b[0m\u001b[1;33m,\u001b[0m \u001b[0mdtype\u001b[0m\u001b[1;33m=\u001b[0m\u001b[0mdtype_sum\u001b[0m\u001b[1;33m)\u001b[0m\u001b[1;33m\u001b[0m\u001b[1;33m\u001b[0m\u001b[0m\n\u001b[0m\u001b[0;32m    510\u001b[0m     \u001b[0mthe_sum\u001b[0m \u001b[1;33m=\u001b[0m \u001b[0m_maybe_null_out\u001b[0m\u001b[1;33m(\u001b[0m\u001b[0mthe_sum\u001b[0m\u001b[1;33m,\u001b[0m \u001b[0maxis\u001b[0m\u001b[1;33m,\u001b[0m \u001b[0mmask\u001b[0m\u001b[1;33m,\u001b[0m \u001b[0mvalues\u001b[0m\u001b[1;33m.\u001b[0m\u001b[0mshape\u001b[0m\u001b[1;33m,\u001b[0m \u001b[0mmin_count\u001b[0m\u001b[1;33m=\u001b[0m\u001b[0mmin_count\u001b[0m\u001b[1;33m)\u001b[0m\u001b[1;33m\u001b[0m\u001b[1;33m\u001b[0m\u001b[0m\n\u001b[0;32m    511\u001b[0m \u001b[1;33m\u001b[0m\u001b[0m\n",
      "\u001b[1;31mKeyboardInterrupt\u001b[0m: "
     ]
    }
   ],
   "source": [
    "df['keyword_sum'] = df[['g_renovated', 'g_view', 'g_unit', 'g_virtual', 'g_location', 'g_apt', 'g_activity']].apply(lambda x : sum(x), axis = 1)\n",
    "df.loc[df['keyword_sum'] == 0].sum()"
   ]
  },
  {
   "cell_type": "code",
   "execution_count": 8,
   "metadata": {
    "scrolled": false
   },
   "outputs": [
    {
     "name": "stdout",
     "output_type": "stream",
     "text": [
      "reg price i.g_renovated##listed_year_dummy floorsize years_from_top rooms free i.floor_code\n",
      "reg price i.g_view##listed_year_dummy floorsize years_from_top rooms free i.floor_code\n",
      "reg price i.g_unit##listed_year_dummy floorsize years_from_top rooms free i.floor_code\n",
      "reg price i.g_virtual##listed_year_dummy floorsize years_from_top rooms free i.floor_code\n",
      "reg price i.g_location##listed_year_dummy floorsize years_from_top rooms free i.floor_code\n",
      "reg price i.g_apt##listed_year_dummy floorsize years_from_top rooms free i.floor_code\n",
      "reg price i.g_activity##listed_year_dummy floorsize years_from_top rooms free i.floor_code\n",
      "reg price i.g_renovated##WFH floorsize years_from_top rooms free i.floor_code\n",
      "reg price i.g_view##WFH floorsize years_from_top rooms free i.floor_code\n",
      "reg price i.g_unit##WFH floorsize years_from_top rooms free i.floor_code\n",
      "reg price i.g_virtual##WFH floorsize years_from_top rooms free i.floor_code\n",
      "reg price i.g_location##WFH floorsize years_from_top rooms free i.floor_code\n",
      "reg price i.g_apt##WFH floorsize years_from_top rooms free i.floor_code\n",
      "reg price i.g_activity##WFH floorsize years_from_top rooms free i.floor_code\n",
      "reg price i.g_renovated##WFH0516 floorsize years_from_top rooms free i.floor_code\n",
      "reg price i.g_view##WFH0516 floorsize years_from_top rooms free i.floor_code\n",
      "reg price i.g_unit##WFH0516 floorsize years_from_top rooms free i.floor_code\n",
      "reg price i.g_virtual##WFH0516 floorsize years_from_top rooms free i.floor_code\n",
      "reg price i.g_location##WFH0516 floorsize years_from_top rooms free i.floor_code\n",
      "reg price i.g_apt##WFH0516 floorsize years_from_top rooms free i.floor_code\n",
      "reg price i.g_activity##WFH0516 floorsize years_from_top rooms free i.floor_code\n"
     ]
    }
   ],
   "source": [
    "times = ['listed_year_dummy', 'WFH', 'WFH0516']\n",
    "variable = list(df.columns[df.columns.str.contains('g_')])\n",
    "regions = ['central', 'region_code', 'plan_area_code']\n",
    "\n",
    "for time in times:\n",
    "    for var in variable:\n",
    "        print('reg price '+ 'i.' + var + '##' + time + ' floorsize years_from_top rooms free i.floor_code')"
   ]
  },
  {
   "cell_type": "code",
   "execution_count": null,
   "metadata": {
    "scrolled": true
   },
   "outputs": [],
   "source": [
    "for region in regions:\n",
    "    for var in variable:\n",
    "        print('reg price '+ 'i.' + var + '##' + 'i.'+ region + ' floorsize years_from_top rooms free i.floor_code' + ', vce(cluster '+region+')')"
   ]
  },
  {
   "cell_type": "code",
   "execution_count": null,
   "metadata": {
    "scrolled": true
   },
   "outputs": [],
   "source": [
    "for region in regions:\n",
    "    for time in times:\n",
    "        for varb in variable:\n",
    "            print('reg price '+ 'i.' + var + '##' + 'i.'+region + '##' + time + ' floorsize years_from_top rooms free i.floor_code' + ', vce(cluster '+region+')')"
   ]
  },
  {
   "cell_type": "markdown",
   "metadata": {},
   "source": [
    "## log"
   ]
  },
  {
   "cell_type": "code",
   "execution_count": null,
   "metadata": {
    "scrolled": true
   },
   "outputs": [],
   "source": [
    "times = ['listed_year_dummy', 'T_a1','T_a1.5', 'T_a2', 'T_a3', 'T_a4', 'T_a5', 'T_a6', 'T_a7', 'T_a10', 'T_a11']\n",
    "variable = list(df.columns[df.columns.str.contains('g_')])\n",
    "regions = ['central', 'region_code', 'pla_area_code']\n",
    "\n",
    "for time in times:\n",
    "    for var in variable:\n",
    "        print('reg log_price '+ 'i.' + var + '##' + time + ' floorsize years_from_top rooms free i.floor_code')"
   ]
  },
  {
   "cell_type": "code",
   "execution_count": null,
   "metadata": {
    "scrolled": true
   },
   "outputs": [],
   "source": [
    "for region in regions:\n",
    "    for var in variable:\n",
    "        print('reg log_price '+ 'i.' + var + '##' + 'i.'+ region + ' floorsize years_from_top rooms free i.floor_code' + ', vce(cluster '+region+')')"
   ]
  },
  {
   "cell_type": "code",
   "execution_count": null,
   "metadata": {},
   "outputs": [],
   "source": [
    "for region in regions:\n",
    "    for time in times:\n",
    "        for var in variable:\n",
    "            print('reg log_price '+ 'i.' + var + '##' + 'i.'+region + '##' + time + ' floorsize years_from_top rooms free i.floor_code' + ', vce(cluster '+region+')')"
   ]
  },
  {
   "cell_type": "code",
   "execution_count": null,
   "metadata": {},
   "outputs": [],
   "source": []
  },
  {
   "cell_type": "code",
   "execution_count": null,
   "metadata": {},
   "outputs": [],
   "source": []
  }
 ],
 "metadata": {
  "kernelspec": {
   "display_name": "Python 3",
   "language": "python",
   "name": "python3"
  },
  "language_info": {
   "codemirror_mode": {
    "name": "ipython",
    "version": 3
   },
   "file_extension": ".py",
   "mimetype": "text/x-python",
   "name": "python",
   "nbconvert_exporter": "python",
   "pygments_lexer": "ipython3",
   "version": "3.7.9"
  }
 },
 "nbformat": 4,
 "nbformat_minor": 4
}
