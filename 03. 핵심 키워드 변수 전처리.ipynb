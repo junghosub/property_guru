{
 "cells": [
  {
   "cell_type": "markdown",
   "metadata": {},
   "source": [
    "## 키워드, Phase 변수 생성"
   ]
  },
  {
   "cell_type": "code",
   "execution_count": 1,
   "metadata": {},
   "outputs": [
    {
     "data": {
      "text/html": [
       "<div>\n",
       "<style scoped>\n",
       "    .dataframe tbody tr th:only-of-type {\n",
       "        vertical-align: middle;\n",
       "    }\n",
       "\n",
       "    .dataframe tbody tr th {\n",
       "        vertical-align: top;\n",
       "    }\n",
       "\n",
       "    .dataframe thead th {\n",
       "        text-align: right;\n",
       "    }\n",
       "</style>\n",
       "<table border=\"1\" class=\"dataframe\">\n",
       "  <thead>\n",
       "    <tr style=\"text-align: right;\">\n",
       "      <th></th>\n",
       "      <th>property_ID</th>\n",
       "      <th>address_ID</th>\n",
       "      <th>listed_date</th>\n",
       "      <th>reupload</th>\n",
       "      <th>new</th>\n",
       "      <th>descrip10</th>\n",
       "      <th>description</th>\n",
       "      <th>Floorsize</th>\n",
       "      <th>Floor</th>\n",
       "      <th>House_type</th>\n",
       "      <th>...</th>\n",
       "      <th>g_unit</th>\n",
       "      <th>g_virtual</th>\n",
       "      <th>g_location</th>\n",
       "      <th>g_apt</th>\n",
       "      <th>g_activity</th>\n",
       "      <th>phase_num</th>\n",
       "      <th>highfloor</th>\n",
       "      <th>g_view2</th>\n",
       "      <th>g_unit2</th>\n",
       "      <th>nearMRT</th>\n",
       "    </tr>\n",
       "  </thead>\n",
       "  <tbody>\n",
       "    <tr>\n",
       "      <th>0</th>\n",
       "      <td>1</td>\n",
       "      <td>1</td>\n",
       "      <td>2019-10-26</td>\n",
       "      <td>new</td>\n",
       "      <td>1</td>\n",
       "      <td>excellent unit sale miss 2 bed rom sale go fast</td>\n",
       "      <td>excellent unit sale miss 2 bed rom sale go fas...</td>\n",
       "      <td>930</td>\n",
       "      <td>Middle Floor</td>\n",
       "      <td>Condo</td>\n",
       "      <td>...</td>\n",
       "      <td>0</td>\n",
       "      <td>0</td>\n",
       "      <td>1</td>\n",
       "      <td>0</td>\n",
       "      <td>1</td>\n",
       "      <td>1.0</td>\n",
       "      <td>0</td>\n",
       "      <td>1</td>\n",
       "      <td>0</td>\n",
       "      <td>0.0</td>\n",
       "    </tr>\n",
       "    <tr>\n",
       "      <th>1</th>\n",
       "      <td>2</td>\n",
       "      <td>2</td>\n",
       "      <td>2019-10-26</td>\n",
       "      <td>new</td>\n",
       "      <td>1</td>\n",
       "      <td>great deal miss rarely avail 3 bed sale go fast</td>\n",
       "      <td>great deal miss rarely avail 3 bed sale go fas...</td>\n",
       "      <td>1143</td>\n",
       "      <td>Middle Floor</td>\n",
       "      <td>Condo</td>\n",
       "      <td>...</td>\n",
       "      <td>0</td>\n",
       "      <td>0</td>\n",
       "      <td>1</td>\n",
       "      <td>0</td>\n",
       "      <td>0</td>\n",
       "      <td>1.0</td>\n",
       "      <td>0</td>\n",
       "      <td>1</td>\n",
       "      <td>0</td>\n",
       "      <td>0.0</td>\n",
       "    </tr>\n",
       "    <tr>\n",
       "      <th>2</th>\n",
       "      <td>3</td>\n",
       "      <td>3</td>\n",
       "      <td>2019-10-26</td>\n",
       "      <td>new</td>\n",
       "      <td>1</td>\n",
       "      <td>canopy exe condo available single spr 21 years...</td>\n",
       "      <td>canopy exe condo available single spr 21 years...</td>\n",
       "      <td>1033</td>\n",
       "      <td>High Floor</td>\n",
       "      <td>Condo</td>\n",
       "      <td>...</td>\n",
       "      <td>1</td>\n",
       "      <td>0</td>\n",
       "      <td>0</td>\n",
       "      <td>1</td>\n",
       "      <td>1</td>\n",
       "      <td>1.0</td>\n",
       "      <td>1</td>\n",
       "      <td>1</td>\n",
       "      <td>1</td>\n",
       "      <td>0.0</td>\n",
       "    </tr>\n",
       "    <tr>\n",
       "      <th>3</th>\n",
       "      <td>4</td>\n",
       "      <td>4</td>\n",
       "      <td>2019-10-26</td>\n",
       "      <td>new</td>\n",
       "      <td>1</td>\n",
       "      <td>big 2 bedrooms sale sale want stay high floor ...</td>\n",
       "      <td>big 2 bedrooms sale sale want stay high floor ...</td>\n",
       "      <td>1001</td>\n",
       "      <td>High Floor</td>\n",
       "      <td>Condo</td>\n",
       "      <td>...</td>\n",
       "      <td>0</td>\n",
       "      <td>0</td>\n",
       "      <td>0</td>\n",
       "      <td>0</td>\n",
       "      <td>0</td>\n",
       "      <td>1.0</td>\n",
       "      <td>1</td>\n",
       "      <td>1</td>\n",
       "      <td>1</td>\n",
       "      <td>0.0</td>\n",
       "    </tr>\n",
       "    <tr>\n",
       "      <th>4</th>\n",
       "      <td>5</td>\n",
       "      <td>2</td>\n",
       "      <td>2019-10-26</td>\n",
       "      <td>new</td>\n",
       "      <td>1</td>\n",
       "      <td>3br awesome full reservoir view rare full unbl...</td>\n",
       "      <td>3br awesome full reservoir view rare full unbl...</td>\n",
       "      <td>1248</td>\n",
       "      <td>High Floor</td>\n",
       "      <td>Condo</td>\n",
       "      <td>...</td>\n",
       "      <td>1</td>\n",
       "      <td>0</td>\n",
       "      <td>0</td>\n",
       "      <td>0</td>\n",
       "      <td>0</td>\n",
       "      <td>1.0</td>\n",
       "      <td>1</td>\n",
       "      <td>1</td>\n",
       "      <td>1</td>\n",
       "      <td>0.0</td>\n",
       "    </tr>\n",
       "  </tbody>\n",
       "</table>\n",
       "<p>5 rows × 85 columns</p>\n",
       "</div>"
      ],
      "text/plain": [
       "   property_ID  address_ID listed_date reupload  new  \\\n",
       "0            1           1  2019-10-26      new    1   \n",
       "1            2           2  2019-10-26      new    1   \n",
       "2            3           3  2019-10-26      new    1   \n",
       "3            4           4  2019-10-26      new    1   \n",
       "4            5           2  2019-10-26      new    1   \n",
       "\n",
       "                                           descrip10  \\\n",
       "0    excellent unit sale miss 2 bed rom sale go fast   \n",
       "1    great deal miss rarely avail 3 bed sale go fast   \n",
       "2  canopy exe condo available single spr 21 years...   \n",
       "3  big 2 bedrooms sale sale want stay high floor ...   \n",
       "4  3br awesome full reservoir view rare full unbl...   \n",
       "\n",
       "                                         description  Floorsize         Floor  \\\n",
       "0  excellent unit sale miss 2 bed rom sale go fas...        930  Middle Floor   \n",
       "1  great deal miss rarely avail 3 bed sale go fas...       1143  Middle Floor   \n",
       "2  canopy exe condo available single spr 21 years...       1033    High Floor   \n",
       "3  big 2 bedrooms sale sale want stay high floor ...       1001    High Floor   \n",
       "4  3br awesome full reservoir view rare full unbl...       1248    High Floor   \n",
       "\n",
       "  House_type  ... g_unit g_virtual  g_location g_apt  g_activity  phase_num  \\\n",
       "0      Condo  ...      0         0           1     0           1        1.0   \n",
       "1      Condo  ...      0         0           1     0           0        1.0   \n",
       "2      Condo  ...      1         0           0     1           1        1.0   \n",
       "3      Condo  ...      0         0           0     0           0        1.0   \n",
       "4      Condo  ...      1         0           0     0           0        1.0   \n",
       "\n",
       "  highfloor  g_view2 g_unit2  nearMRT  \n",
       "0         0        1       0      0.0  \n",
       "1         0        1       0      0.0  \n",
       "2         1        1       1      0.0  \n",
       "3         1        1       1      0.0  \n",
       "4         1        1       1      0.0  \n",
       "\n",
       "[5 rows x 85 columns]"
      ]
     },
     "execution_count": 1,
     "metadata": {},
     "output_type": "execute_result"
    }
   ],
   "source": [
    "import numpy as np\n",
    "import pandas as pd\n",
    "import matplotlib.pyplot as plt\n",
    "import seaborn as sns\n",
    "\n",
    "# 전처리한 데이터 불러오기\n",
    "df = pd.read_csv('df_all_apt(2022-02-15).csv')\n",
    "df.head()"
   ]
  },
  {
   "cell_type": "code",
   "execution_count": 2,
   "metadata": {},
   "outputs": [],
   "source": [
    "# 높은 층\n",
    "df['highfloor'] = np.where(df['Floor'] == 'High Floor', 1, 0)\n",
    "\n",
    "# 재택 근무가 보편화된 날짜\n",
    "df['WFH0516']  = np.where(df['listed_date'] >  '2021-05-16', 1,0)\n",
    "df['WFH'] = np.where((df['listed_date']>'2020-06-18') & (df['listed_date']<'2020-12-27'), 1, 0)\n",
    "\n",
    "# df[['listed_date', 'WFH0516']].sample(10)"
   ]
  },
  {
   "cell_type": "markdown",
   "metadata": {},
   "source": [
    "## keyword 파생변수"
   ]
  },
  {
   "cell_type": "code",
   "execution_count": 3,
   "metadata": {},
   "outputs": [],
   "source": [
    "# keyword 개별 변수 생성\n",
    "keywords  = ['park', 'green','school', 'pool', 'swim', 'gym', 'view', 'high floor', 'study', 'spacious', 'mall', 'MRT']\n",
    "\n",
    "for keyword in keywords:\n",
    "    df['keyword_' + str(keyword)] = df['description'].str.contains(keyword, case= False)\n",
    "\n",
    "# renovation은 따로 만듦\n",
    "df['keyword_renovated'] = df['description'].str.contains('renovate|renovated|renovation|', case = False)"
   ]
  },
  {
   "cell_type": "code",
   "execution_count": 4,
   "metadata": {},
   "outputs": [],
   "source": [
    "# df.drop(columns = ['keyword_renovate', 'keyword_renovation'], inplace = True)"
   ]
  },
  {
   "cell_type": "markdown",
   "metadata": {},
   "source": [
    "- `g_renovated`: renovate, maintain(maintained의 원형)\n",
    "- `g_view`: unblock, river, lake, view, seaview, skyview, highfloor(condo에서 급증)\n",
    "- `g_unit`: 3bedroom, balcony, space, renovate, maintain(maintained의 원형), study(condo에서 급증) \n",
    "- `g_virtual`: virtual, video\n",
    "\n",
    "- `g_location (입지적 측면)` : mrt, near, nearby, nearest, location, walk, minute, mins, short, distance, amenities, station, central, school, shop, street, bus, opposite, centre, surround, interchange, go, accessible, supermarket, bank, connectivity\n",
    "-`g_apt (단지 측면)` : facilities, community, swim, gym, gym\n",
    "- `g_activity`: swim, gym, pool"
   ]
  },
  {
   "cell_type": "code",
   "execution_count": 5,
   "metadata": {},
   "outputs": [],
   "source": [
    "# grouping\n",
    "# 2019년에 비해 2020년, 2021년에 언급 확률이 높아진 단어들\n",
    "df['g_renovated'] = df['description'].str.contains('renovate|renovated|maintain|maintained', case = False)\n",
    "df['g_view'] = df['description'].str.contains('unblock|river|lake|view|seaview|skyview|highfloor', case = False)\n",
    "df['g_view2'] = df['description'].str.contains('unblock|river|lake|view|seaview|skyview|highfloor|sea|seaside', case = False)\n",
    "df['g_unit'] = df['description'].str.contains('3bedroom|balcony|space|renovate|renovated|maintain|maintained|study', case = False)\n",
    "df['g_unit2'] = df['description'].str.contains('3bedroom|bedroom|balcony|space|renovate|renovated|maintain|maintained|study', case = False)\n",
    "df['g_virtual'] = df['description'].str.contains('virtual|video', case = False)\n",
    "\n",
    "# 2019년에 비해 2020년, 2021년에 언급 확률이 낮아진 단어들\n",
    "location = ['mrt', 'near, nearby', 'nearest', 'location', 'walk', 'minute', 'mins', 'short', 'distance', 'amenities', 'station', 'central', 'school', 'shop', 'street', \n",
    "            'bus', 'opposite', 'centre', 'surround', 'interchange', 'go', 'accessible', 'supermarket', 'bank', 'connectivity']\n",
    "\n",
    "location = '|'.join(location)\n",
    "df['g_location'] = df['description'].str.contains(location, case = False)\n",
    "df['g_apt'] = df['description'].str.contains('facilities|community|swim|gym', case = False)\n",
    "df['g_activity'] = df['description'].str.contains('swim|gym|pool', case = False)"
   ]
  },
  {
   "cell_type": "markdown",
   "metadata": {},
   "source": [
    "해당 키워드의 포함 여부를 통해 그룹핑 변수를 생성해주었습니다. 제대로 생성되었는지 확인보겠습니다."
   ]
  },
  {
   "cell_type": "code",
   "execution_count": 6,
   "metadata": {
    "scrolled": true
   },
   "outputs": [
    {
     "data": {
      "text/plain": [
       "True    4760\n",
       "Name: g_location, dtype: int64"
      ]
     },
     "execution_count": 6,
     "metadata": {},
     "output_type": "execute_result"
    }
   ],
   "source": [
    "df.loc[df['description'].str.contains('minute')]['g_location'].value_counts()"
   ]
  },
  {
   "cell_type": "code",
   "execution_count": 7,
   "metadata": {},
   "outputs": [
    {
     "data": {
      "text/plain": [
       "True    28497\n",
       "Name: g_view, dtype: int64"
      ]
     },
     "execution_count": 7,
     "metadata": {},
     "output_type": "execute_result"
    }
   ],
   "source": [
    "df.loc[df['description'].str.contains('unblock')]['g_view'].value_counts()"
   ]
  },
  {
   "cell_type": "code",
   "execution_count": 8,
   "metadata": {},
   "outputs": [
    {
     "data": {
      "text/plain": [
       "True    8978\n",
       "Name: g_renovated, dtype: int64"
      ]
     },
     "execution_count": 8,
     "metadata": {},
     "output_type": "execute_result"
    }
   ],
   "source": [
    "df.loc[df['description'].str.contains('maintain')]['g_renovated'].value_counts()"
   ]
  },
  {
   "cell_type": "markdown",
   "metadata": {},
   "source": [
    "확인 완료!"
   ]
  },
  {
   "cell_type": "markdown",
   "metadata": {},
   "source": [
    "## Phase"
   ]
  },
  {
   "cell_type": "code",
   "execution_count": 9,
   "metadata": {},
   "outputs": [
    {
     "data": {
      "text/html": [
       "<div>\n",
       "<style scoped>\n",
       "    .dataframe tbody tr th:only-of-type {\n",
       "        vertical-align: middle;\n",
       "    }\n",
       "\n",
       "    .dataframe tbody tr th {\n",
       "        vertical-align: top;\n",
       "    }\n",
       "\n",
       "    .dataframe thead th {\n",
       "        text-align: right;\n",
       "    }\n",
       "</style>\n",
       "<table border=\"1\" class=\"dataframe\">\n",
       "  <thead>\n",
       "    <tr style=\"text-align: right;\">\n",
       "      <th></th>\n",
       "      <th>phase</th>\n",
       "      <th>phase_num</th>\n",
       "    </tr>\n",
       "  </thead>\n",
       "  <tbody>\n",
       "    <tr>\n",
       "      <th>33720</th>\n",
       "      <td>5) phase3</td>\n",
       "      <td>5</td>\n",
       "    </tr>\n",
       "    <tr>\n",
       "      <th>13032</th>\n",
       "      <td>4) phase2</td>\n",
       "      <td>4</td>\n",
       "    </tr>\n",
       "    <tr>\n",
       "      <th>31484</th>\n",
       "      <td>1) before covid</td>\n",
       "      <td>1</td>\n",
       "    </tr>\n",
       "    <tr>\n",
       "      <th>134303</th>\n",
       "      <td>4) phase2</td>\n",
       "      <td>4</td>\n",
       "    </tr>\n",
       "    <tr>\n",
       "      <th>90061</th>\n",
       "      <td>4) phase2</td>\n",
       "      <td>4</td>\n",
       "    </tr>\n",
       "  </tbody>\n",
       "</table>\n",
       "</div>"
      ],
      "text/plain": [
       "                  phase phase_num\n",
       "33720         5) phase3         5\n",
       "13032         4) phase2         4\n",
       "31484   1) before covid         1\n",
       "134303        4) phase2         4\n",
       "90061         4) phase2         4"
      ]
     },
     "execution_count": 9,
     "metadata": {},
     "output_type": "execute_result"
    }
   ],
   "source": [
    "# 해당 단계의 숫자 뽑아옴\n",
    "df['phase_num'] = df['phase'].str.split(')').apply(lambda x : x[0])\n",
    "df[['phase', 'phase_num']].sample(5)"
   ]
  },
  {
   "cell_type": "code",
   "execution_count": 10,
   "metadata": {},
   "outputs": [],
   "source": [
    "# 해당 기준보다 입력 받은 값이 크면 1 아니면 0\n",
    "var = [1,1.5, 2,3,4,5,6,7,10,11]\n",
    "\n",
    "def get_phase(x, num):\n",
    "    if float(num) >  float(x):\n",
    "        return True\n",
    "    else:\n",
    "        return False\n",
    "    \n",
    "for num in var:\n",
    "    df['T_a'+str(num)]= df['phase_num'].apply(lambda x : get_phase(x, num))"
   ]
  },
  {
   "cell_type": "code",
   "execution_count": 11,
   "metadata": {},
   "outputs": [
    {
     "data": {
      "text/html": [
       "<div>\n",
       "<style scoped>\n",
       "    .dataframe tbody tr th:only-of-type {\n",
       "        vertical-align: middle;\n",
       "    }\n",
       "\n",
       "    .dataframe tbody tr th {\n",
       "        vertical-align: top;\n",
       "    }\n",
       "\n",
       "    .dataframe thead th {\n",
       "        text-align: right;\n",
       "    }\n",
       "</style>\n",
       "<table border=\"1\" class=\"dataframe\">\n",
       "  <thead>\n",
       "    <tr style=\"text-align: right;\">\n",
       "      <th></th>\n",
       "      <th>phase_num</th>\n",
       "      <th>T_a1</th>\n",
       "      <th>T_a1.5</th>\n",
       "      <th>T_a2</th>\n",
       "      <th>T_a3</th>\n",
       "      <th>T_a4</th>\n",
       "      <th>T_a5</th>\n",
       "      <th>T_a6</th>\n",
       "      <th>T_a7</th>\n",
       "      <th>T_a10</th>\n",
       "      <th>T_a11</th>\n",
       "    </tr>\n",
       "  </thead>\n",
       "  <tbody>\n",
       "    <tr>\n",
       "      <th>167663</th>\n",
       "      <td>5</td>\n",
       "      <td>False</td>\n",
       "      <td>False</td>\n",
       "      <td>False</td>\n",
       "      <td>False</td>\n",
       "      <td>False</td>\n",
       "      <td>False</td>\n",
       "      <td>True</td>\n",
       "      <td>True</td>\n",
       "      <td>True</td>\n",
       "      <td>True</td>\n",
       "    </tr>\n",
       "    <tr>\n",
       "      <th>7199</th>\n",
       "      <td>1</td>\n",
       "      <td>False</td>\n",
       "      <td>True</td>\n",
       "      <td>True</td>\n",
       "      <td>True</td>\n",
       "      <td>True</td>\n",
       "      <td>True</td>\n",
       "      <td>True</td>\n",
       "      <td>True</td>\n",
       "      <td>True</td>\n",
       "      <td>True</td>\n",
       "    </tr>\n",
       "    <tr>\n",
       "      <th>179748</th>\n",
       "      <td>4</td>\n",
       "      <td>False</td>\n",
       "      <td>False</td>\n",
       "      <td>False</td>\n",
       "      <td>False</td>\n",
       "      <td>False</td>\n",
       "      <td>True</td>\n",
       "      <td>True</td>\n",
       "      <td>True</td>\n",
       "      <td>True</td>\n",
       "      <td>True</td>\n",
       "    </tr>\n",
       "    <tr>\n",
       "      <th>236575</th>\n",
       "      <td>1</td>\n",
       "      <td>False</td>\n",
       "      <td>True</td>\n",
       "      <td>True</td>\n",
       "      <td>True</td>\n",
       "      <td>True</td>\n",
       "      <td>True</td>\n",
       "      <td>True</td>\n",
       "      <td>True</td>\n",
       "      <td>True</td>\n",
       "      <td>True</td>\n",
       "    </tr>\n",
       "    <tr>\n",
       "      <th>237563</th>\n",
       "      <td>1</td>\n",
       "      <td>False</td>\n",
       "      <td>True</td>\n",
       "      <td>True</td>\n",
       "      <td>True</td>\n",
       "      <td>True</td>\n",
       "      <td>True</td>\n",
       "      <td>True</td>\n",
       "      <td>True</td>\n",
       "      <td>True</td>\n",
       "      <td>True</td>\n",
       "    </tr>\n",
       "  </tbody>\n",
       "</table>\n",
       "</div>"
      ],
      "text/plain": [
       "       phase_num   T_a1  T_a1.5   T_a2   T_a3   T_a4   T_a5  T_a6  T_a7  \\\n",
       "167663         5  False   False  False  False  False  False  True  True   \n",
       "7199           1  False    True   True   True   True   True  True  True   \n",
       "179748         4  False   False  False  False  False   True  True  True   \n",
       "236575         1  False    True   True   True   True   True  True  True   \n",
       "237563         1  False    True   True   True   True   True  True  True   \n",
       "\n",
       "        T_a10  T_a11  \n",
       "167663   True   True  \n",
       "7199     True   True  \n",
       "179748   True   True  \n",
       "236575   True   True  \n",
       "237563   True   True  "
      ]
     },
     "execution_count": 11,
     "metadata": {},
     "output_type": "execute_result"
    }
   ],
   "source": [
    "df[['phase_num', 'T_a1', 'T_a1.5', 'T_a2', 'T_a3', 'T_a4', 'T_a5', 'T_a6', 'T_a7', 'T_a10', 'T_a11']].sample(5)"
   ]
  },
  {
   "cell_type": "code",
   "execution_count": 12,
   "metadata": {},
   "outputs": [
    {
     "data": {
      "text/html": [
       "<div>\n",
       "<style scoped>\n",
       "    .dataframe tbody tr th:only-of-type {\n",
       "        vertical-align: middle;\n",
       "    }\n",
       "\n",
       "    .dataframe tbody tr th {\n",
       "        vertical-align: top;\n",
       "    }\n",
       "\n",
       "    .dataframe thead th {\n",
       "        text-align: right;\n",
       "    }\n",
       "</style>\n",
       "<table border=\"1\" class=\"dataframe\">\n",
       "  <thead>\n",
       "    <tr style=\"text-align: right;\">\n",
       "      <th></th>\n",
       "      <th>listed_year</th>\n",
       "      <th>listed_year_dummy</th>\n",
       "    </tr>\n",
       "  </thead>\n",
       "  <tbody>\n",
       "    <tr>\n",
       "      <th>0</th>\n",
       "      <td>2019</td>\n",
       "      <td>0</td>\n",
       "    </tr>\n",
       "    <tr>\n",
       "      <th>1</th>\n",
       "      <td>2019</td>\n",
       "      <td>0</td>\n",
       "    </tr>\n",
       "    <tr>\n",
       "      <th>2</th>\n",
       "      <td>2019</td>\n",
       "      <td>0</td>\n",
       "    </tr>\n",
       "    <tr>\n",
       "      <th>3</th>\n",
       "      <td>2019</td>\n",
       "      <td>0</td>\n",
       "    </tr>\n",
       "    <tr>\n",
       "      <th>4</th>\n",
       "      <td>2019</td>\n",
       "      <td>0</td>\n",
       "    </tr>\n",
       "  </tbody>\n",
       "</table>\n",
       "</div>"
      ],
      "text/plain": [
       "   listed_year  listed_year_dummy\n",
       "0         2019                  0\n",
       "1         2019                  0\n",
       "2         2019                  0\n",
       "3         2019                  0\n",
       "4         2019                  0"
      ]
     },
     "execution_count": 12,
     "metadata": {},
     "output_type": "execute_result"
    }
   ],
   "source": [
    "df['listed_year_dummy'] = np.where(df['listed_year'] >= 2020, 1, 0)\n",
    "df[['listed_year', 'listed_year_dummy']].head()"
   ]
  },
  {
   "cell_type": "code",
   "execution_count": 13,
   "metadata": {},
   "outputs": [],
   "source": [
    "# bool type -> int type\n",
    "\n",
    "# extract the bool variable\n",
    "cols = list(df.dtypes[df.dtypes == 'bool'].index)\n",
    "\n",
    "# convert to int\n",
    "for col in cols:\n",
    "    df[col] = df[col].astype('int')"
   ]
  },
  {
   "cell_type": "code",
   "execution_count": null,
   "metadata": {},
   "outputs": [],
   "source": [
    "df.to_csv('df_all_apt(2022-02-15).csv', index = False)"
   ]
  },
  {
   "cell_type": "code",
   "execution_count": null,
   "metadata": {},
   "outputs": [],
   "source": [
    "df_condo = df.loc[df['House_type'] == 'Condo'].reset_index(drop = True)\n",
    "df_condo.to_csv('df_condo(2022-02-15).csv', index = False)"
   ]
  },
  {
   "cell_type": "code",
   "execution_count": null,
   "metadata": {},
   "outputs": [],
   "source": [
    "df_HDB = df.loc[df['House_type'] == 'HDB'].reset_index(drop = True)\n",
    "df_HDB.to_csv('df_HDB(2022-02-15).csv', index = False)"
   ]
  }
 ],
 "metadata": {
  "kernelspec": {
   "display_name": "Python 3",
   "language": "python",
   "name": "python3"
  },
  "language_info": {
   "codemirror_mode": {
    "name": "ipython",
    "version": 3
   },
   "file_extension": ".py",
   "mimetype": "text/x-python",
   "name": "python",
   "nbconvert_exporter": "python",
   "pygments_lexer": "ipython3",
   "version": "3.7.9"
  }
 },
 "nbformat": 4,
 "nbformat_minor": 4
}
